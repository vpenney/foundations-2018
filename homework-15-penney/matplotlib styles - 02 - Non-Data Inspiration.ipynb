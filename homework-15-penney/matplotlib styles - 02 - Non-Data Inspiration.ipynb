{
 "cells": [
  {
   "cell_type": "markdown",
   "metadata": {},
   "source": [
    "# Building and using styles in matplotlib"
   ]
  },
  {
   "cell_type": "code",
   "execution_count": 2,
   "metadata": {},
   "outputs": [],
   "source": [
    "import pandas as pd\n",
    "import matplotlib.pyplot as plt\n",
    "from cycler import cycler\n",
    "\n",
    "%matplotlib inline"
   ]
  },
  {
   "cell_type": "markdown",
   "metadata": {},
   "source": [
    "## rcParams\n",
    "\n",
    "rcParams are settings for matplotlib. They're how stylesheets work (the thing when you use `plt.style.use`.\n",
    "\n",
    "You can find examples of the different styles [here](https://matplotlib.org/2.1.1/gallery/style_sheets/style_sheets_reference.html) and [here](https://tonysyu.github.io/raw_content/matplotlib-style-gallery/gallery.html). A big long list is:\n",
    "\n",
    "- bmh\n",
    "- classic\n",
    "- dark_background\n",
    "- fivethirtyeight\n",
    "- ggplot \n",
    "- grayscale\n",
    "- seaborn-bright \n",
    "- seaborn-colorblind \n",
    "- seaborn-dark \n",
    "- seaborn-dark-palette \n",
    "- seaborn-darkgrid \n",
    "- seaborn-deep \n",
    "- seaborn-muted\n",
    "- seaborn-notebook \n",
    "- seaborn-paper\n",
    "- seaborn-pastel \n",
    "- seaborn-poster \n",
    "- seaborn-talk \n",
    "- seaborn-ticks\n",
    "- seaborn-white\n",
    "- seaborn-whitegrid \n",
    "\n",
    "You can find all of the options you can use with `plt.style.use` [in these files here](https://github.com/matplotlib/matplotlib/tree/master/lib/matplotlib/mpl-data/stylelib)"
   ]
  },
  {
   "cell_type": "markdown",
   "metadata": {},
   "source": [
    "### FiveThirtyEight\n",
    "\n",
    "This is the same as `plt.style.use('fivethirtyeight')`. You can find the file it's based on [right here](https://github.com/matplotlib/matplotlib/blob/master/lib/matplotlib/mpl-data/stylelib/fivethirtyeight.mplstyle)."
   ]
  },
  {
   "cell_type": "code",
   "execution_count": 2,
   "metadata": {},
   "outputs": [],
   "source": [
    "# # What do these things mean???\n",
    "# plt.rcdefaults()\n",
    "# plt.rcParams.update({\n",
    "#   'lines.linewidth': 4,\n",
    "#   'lines.solid_capstyle': 'butt',\n",
    "#   'legend.fancybox': True,\n",
    "#   'axes.prop_cycle': cycler('color', ['#008fd5', '#fc4f30', '#e5ae38', '#6d904f', '#8b8b8b', '#810f7c']),\n",
    "#   'axes.facecolor': '#f0f0f0',\n",
    "#   'axes.labelsize': 'large',\n",
    "#   'axes.axisbelow': True,\n",
    "#   'axes.grid': True,\n",
    "#   'axes.edgecolor': '#f0f0f0',\n",
    "#   'axes.linewidth': 3.0,\n",
    "#   'axes.titlesize': 'x-large',\n",
    "#   'patch.edgecolor': '#f0f0f0',\n",
    "#   'patch.linewidth': 0.5,\n",
    "#   'svg.fonttype': 'path',\n",
    "#   'grid.linestyle': '-',\n",
    "#   'grid.linewidth': 1.0,\n",
    "#   'grid.color': '#cbcbcb',\n",
    "#   'xtick.major.size': 0,\n",
    "#   'xtick.minor.size': 0,\n",
    "#   'ytick.major.size': 0,\n",
    "#   'ytick.minor.size': 0,\n",
    "#   'font.size': 14.0,\n",
    "#   'savefig.edgecolor': '#f0f0f0',\n",
    "#   'savefig.facecolor': '#f0f0f0',\n",
    "#   'figure.subplot.left': 0.08,\n",
    "#   'figure.subplot.right': 0.95,\n",
    "#   'figure.subplot.bottom': 0.07,\n",
    "#   'figure.facecolor': '#f0f0f0',\n",
    "# })"
   ]
  },
  {
   "cell_type": "markdown",
   "metadata": {},
   "source": [
    "### ggplot\n",
    "\n",
    "This is the same as `plt.style.use('ggplot')`. You can find the file it's based on [here](https://github.com/matplotlib/matplotlib/blob/master/lib/matplotlib/mpl-data/stylelib/ggplot.mplstyle)."
   ]
  },
  {
   "cell_type": "code",
   "execution_count": 3,
   "metadata": {},
   "outputs": [],
   "source": [
    "# plt.rcdefaults()\n",
    "# plt.rcParams.update({\n",
    "#   'patch.linewidth': 0.5,\n",
    "#   'patch.facecolor': '#348ABD',\n",
    "#   'patch.edgecolor': '#EEEEEE',\n",
    "#   'patch.antialiased': True,\n",
    "#   'font.size': 10.0,\n",
    "#   'axes.facecolor': '#E5E5E5',\n",
    "#   'axes.edgecolor': 'white',\n",
    "#   'axes.linewidth': '1',\n",
    "#   'axes.grid': True,\n",
    "#   'axes.titlesize': 'x-large',\n",
    "#   'axes.labelsize': 'large',\n",
    "#   'axes.labelcolor': '#555555',\n",
    "#   'axes.axisbelow': True,\n",
    "#   'axes.prop_cycle': cycler('color', ['#E24A33', '#348ABD', '#988ED5', '#777777', '#FBC15E', '#8EBA42', '#FFB5B8']),\n",
    "#   'xtick.color': '#555555',\n",
    "#   'xtick.direction': 'out',\n",
    "#   'ytick.color': '#555555',\n",
    "#   'ytick.direction': 'out',\n",
    "#   'grid.color': 'white',\n",
    "#   'grid.linestyle': '-',\n",
    "#   'figure.facecolor': 'white'\n",
    "# })"
   ]
  },
  {
   "cell_type": "markdown",
   "metadata": {},
   "source": [
    "### Yours!\n",
    "\n",
    "My abbreviated list of options to update can be found [here as a gist](https://gist.github.com/jsoma/8e453751dac9961afdef87c81ea4d5a4).\n",
    "\n",
    "Make sure you put **commas at the end of your lines.**"
   ]
  },
  {
   "cell_type": "code",
   "execution_count": 3,
   "metadata": {},
   "outputs": [],
   "source": [
    "plt.rcdefaults()\n",
    "plt.rcParams.update({\n",
    "    'pdf.fonttype': 42,\n",
    "    'ps.fonttype': 42,\n",
    "})"
   ]
  },
  {
   "cell_type": "code",
   "execution_count": 17,
   "metadata": {},
   "outputs": [
    {
     "data": {
      "text/html": [
       "<div style='column-count: 2;'><p>.Keyboard: <span style='font-family:.Keyboard; font-size: 24px;'>.Keyboard</p>\n",
       "<p>.LastResort: <span style='font-family:.LastResort; font-size: 24px;'>.LastResort</p>\n",
       "<p>.SF Compact Display: <span style='font-family:.SF Compact Display; font-size: 24px;'>.SF Compact Display</p>\n",
       "<p>.SF Compact Rounded: <span style='font-family:.SF Compact Rounded; font-size: 24px;'>.SF Compact Rounded</p>\n",
       "<p>.SF Compact Text: <span style='font-family:.SF Compact Text; font-size: 24px;'>.SF Compact Text</p>\n",
       "<p>.SF NS Display Condensed: <span style='font-family:.SF NS Display Condensed; font-size: 24px;'>.SF NS Display Condensed</p>\n",
       "<p>.SF NS Text Condensed: <span style='font-family:.SF NS Text Condensed; font-size: 24px;'>.SF NS Text Condensed</p>\n",
       "<p>Andale Mono: <span style='font-family:Andale Mono; font-size: 24px;'>Andale Mono</p>\n",
       "<p>Apple Braille: <span style='font-family:Apple Braille; font-size: 24px;'>Apple Braille</p>\n",
       "<p>Apple Chancery: <span style='font-family:Apple Chancery; font-size: 24px;'>Apple Chancery</p>\n",
       "<p>Apple Symbols: <span style='font-family:Apple Symbols; font-size: 24px;'>Apple Symbols</p>\n",
       "<p>AppleGothic: <span style='font-family:AppleGothic; font-size: 24px;'>AppleGothic</p>\n",
       "<p>AppleMyungjo: <span style='font-family:AppleMyungjo; font-size: 24px;'>AppleMyungjo</p>\n",
       "<p>Arial: <span style='font-family:Arial; font-size: 24px;'>Arial</p>\n",
       "<p>Arial Black: <span style='font-family:Arial Black; font-size: 24px;'>Arial Black</p>\n",
       "<p>Arial Narrow: <span style='font-family:Arial Narrow; font-size: 24px;'>Arial Narrow</p>\n",
       "<p>Arial Rounded MT Bold: <span style='font-family:Arial Rounded MT Bold; font-size: 24px;'>Arial Rounded MT Bold</p>\n",
       "<p>Arial Unicode MS: <span style='font-family:Arial Unicode MS; font-size: 24px;'>Arial Unicode MS</p>\n",
       "<p>Ayuthaya: <span style='font-family:Ayuthaya; font-size: 24px;'>Ayuthaya</p>\n",
       "<p>Batang: <span style='font-family:Batang; font-size: 24px;'>Batang</p>\n",
       "<p>Big Caslon: <span style='font-family:Big Caslon; font-size: 24px;'>Big Caslon</p>\n",
       "<p>Bodoni 72 Smallcaps: <span style='font-family:Bodoni 72 Smallcaps; font-size: 24px;'>Bodoni 72 Smallcaps</p>\n",
       "<p>Bodoni Ornaments: <span style='font-family:Bodoni Ornaments; font-size: 24px;'>Bodoni Ornaments</p>\n",
       "<p>Bookshelf Symbol 7: <span style='font-family:Bookshelf Symbol 7; font-size: 24px;'>Bookshelf Symbol 7</p>\n",
       "<p>Bradley Hand: <span style='font-family:Bradley Hand; font-size: 24px;'>Bradley Hand</p>\n",
       "<p>Brush Script MT: <span style='font-family:Brush Script MT; font-size: 24px;'>Brush Script MT</p>\n",
       "<p>Calibri: <span style='font-family:Calibri; font-size: 24px;'>Calibri</p>\n",
       "<p>Cambria: <span style='font-family:Cambria; font-size: 24px;'>Cambria</p>\n",
       "<p>Cambria Math: <span style='font-family:Cambria Math; font-size: 24px;'>Cambria Math</p>\n",
       "<p>Candara: <span style='font-family:Candara; font-size: 24px;'>Candara</p>\n",
       "<p>Chalkduster: <span style='font-family:Chalkduster; font-size: 24px;'>Chalkduster</p>\n",
       "<p>Comic Sans MS: <span style='font-family:Comic Sans MS; font-size: 24px;'>Comic Sans MS</p>\n",
       "<p>Consolas: <span style='font-family:Consolas; font-size: 24px;'>Consolas</p>\n",
       "<p>Constantia: <span style='font-family:Constantia; font-size: 24px;'>Constantia</p>\n",
       "<p>Corbel: <span style='font-family:Corbel; font-size: 24px;'>Corbel</p>\n",
       "<p>Courier New: <span style='font-family:Courier New; font-size: 24px;'>Courier New</p>\n",
       "<p>DIN Alternate: <span style='font-family:DIN Alternate; font-size: 24px;'>DIN Alternate</p>\n",
       "<p>DIN Condensed: <span style='font-family:DIN Condensed; font-size: 24px;'>DIN Condensed</p>\n",
       "<p>DejaVu Sans: <span style='font-family:DejaVu Sans; font-size: 24px;'>DejaVu Sans</p>\n",
       "<p>DejaVu Sans Display: <span style='font-family:DejaVu Sans Display; font-size: 24px;'>DejaVu Sans Display</p>\n",
       "<p>DejaVu Sans Mono: <span style='font-family:DejaVu Sans Mono; font-size: 24px;'>DejaVu Sans Mono</p>\n",
       "<p>DejaVu Serif: <span style='font-family:DejaVu Serif; font-size: 24px;'>DejaVu Serif</p>\n",
       "<p>DejaVu Serif Display: <span style='font-family:DejaVu Serif Display; font-size: 24px;'>DejaVu Serif Display</p>\n",
       "<p>Diwan Thuluth: <span style='font-family:Diwan Thuluth; font-size: 24px;'>Diwan Thuluth</p>\n",
       "<p>Farisi: <span style='font-family:Farisi; font-size: 24px;'>Farisi</p>\n",
       "<p>Franklin Gothic Book: <span style='font-family:Franklin Gothic Book; font-size: 24px;'>Franklin Gothic Book</p>\n",
       "<p>Franklin Gothic Medium: <span style='font-family:Franklin Gothic Medium; font-size: 24px;'>Franklin Gothic Medium</p>\n",
       "<p>Gabriola: <span style='font-family:Gabriola; font-size: 24px;'>Gabriola</p>\n",
       "<p>Georgia: <span style='font-family:Georgia; font-size: 24px;'>Georgia</p>\n",
       "<p>Gill Sans MT: <span style='font-family:Gill Sans MT; font-size: 24px;'>Gill Sans MT</p>\n",
       "<p>Gulim: <span style='font-family:Gulim; font-size: 24px;'>Gulim</p>\n",
       "<p>Gurmukhi MT: <span style='font-family:Gurmukhi MT; font-size: 24px;'>Gurmukhi MT</p>\n",
       "<p>Herculanum: <span style='font-family:Herculanum; font-size: 24px;'>Herculanum</p>\n",
       "<p>Hoefler Text: <span style='font-family:Hoefler Text; font-size: 24px;'>Hoefler Text</p>\n",
       "<p>Impact: <span style='font-family:Impact; font-size: 24px;'>Impact</p>\n",
       "<p>Khmer Sangam MN: <span style='font-family:Khmer Sangam MN; font-size: 24px;'>Khmer Sangam MN</p>\n",
       "<p>Kokonor: <span style='font-family:Kokonor; font-size: 24px;'>Kokonor</p>\n",
       "<p>Krungthep: <span style='font-family:Krungthep; font-size: 24px;'>Krungthep</p>\n",
       "<p>Lao Sangam MN: <span style='font-family:Lao Sangam MN; font-size: 24px;'>Lao Sangam MN</p>\n",
       "<p>Lucida Console: <span style='font-family:Lucida Console; font-size: 24px;'>Lucida Console</p>\n",
       "<p>Lucida Sans Unicode: <span style='font-family:Lucida Sans Unicode; font-size: 24px;'>Lucida Sans Unicode</p>\n",
       "<p>Luminari: <span style='font-family:Luminari; font-size: 24px;'>Luminari</p>\n",
       "<p>MS Gothic: <span style='font-family:MS Gothic; font-size: 24px;'>MS Gothic</p>\n",
       "<p>MS Mincho: <span style='font-family:MS Mincho; font-size: 24px;'>MS Mincho</p>\n",
       "<p>MS PGothic: <span style='font-family:MS PGothic; font-size: 24px;'>MS PGothic</p>\n",
       "<p>MS PMincho: <span style='font-family:MS PMincho; font-size: 24px;'>MS PMincho</p>\n",
       "<p>MS Reference Sans Serif: <span style='font-family:MS Reference Sans Serif; font-size: 24px;'>MS Reference Sans Serif</p>\n",
       "<p>MS Reference Specialty: <span style='font-family:MS Reference Specialty; font-size: 24px;'>MS Reference Specialty</p>\n",
       "<p>Marlett: <span style='font-family:Marlett; font-size: 24px;'>Marlett</p>\n",
       "<p>Meiryo: <span style='font-family:Meiryo; font-size: 24px;'>Meiryo</p>\n",
       "<p>Microsoft Himalaya: <span style='font-family:Microsoft Himalaya; font-size: 24px;'>Microsoft Himalaya</p>\n",
       "<p>Microsoft Sans Serif: <span style='font-family:Microsoft Sans Serif; font-size: 24px;'>Microsoft Sans Serif</p>\n",
       "<p>Microsoft Tai Le: <span style='font-family:Microsoft Tai Le; font-size: 24px;'>Microsoft Tai Le</p>\n",
       "<p>Microsoft Yi Baiti: <span style='font-family:Microsoft Yi Baiti; font-size: 24px;'>Microsoft Yi Baiti</p>\n",
       "<p>MingLiU: <span style='font-family:MingLiU; font-size: 24px;'>MingLiU</p>\n",
       "<p>MingLiU-ExtB: <span style='font-family:MingLiU-ExtB; font-size: 24px;'>MingLiU-ExtB</p>\n",
       "<p>MingLiU_HKSCS: <span style='font-family:MingLiU_HKSCS; font-size: 24px;'>MingLiU_HKSCS</p>\n",
       "<p>MingLiU_HKSCS-ExtB: <span style='font-family:MingLiU_HKSCS-ExtB; font-size: 24px;'>MingLiU_HKSCS-ExtB</p>\n",
       "<p>Mishafi: <span style='font-family:Mishafi; font-size: 24px;'>Mishafi</p>\n",
       "<p>Mishafi Gold: <span style='font-family:Mishafi Gold; font-size: 24px;'>Mishafi Gold</p>\n",
       "<p>Mongolian Baiti: <span style='font-family:Mongolian Baiti; font-size: 24px;'>Mongolian Baiti</p>\n",
       "<p>PMingLiU: <span style='font-family:PMingLiU; font-size: 24px;'>PMingLiU</p>\n",
       "<p>PMingLiU-ExtB: <span style='font-family:PMingLiU-ExtB; font-size: 24px;'>PMingLiU-ExtB</p>\n",
       "<p>Palatino Linotype: <span style='font-family:Palatino Linotype; font-size: 24px;'>Palatino Linotype</p>\n",
       "<p>Perpetua: <span style='font-family:Perpetua; font-size: 24px;'>Perpetua</p>\n",
       "<p>Plantagenet Cherokee: <span style='font-family:Plantagenet Cherokee; font-size: 24px;'>Plantagenet Cherokee</p>\n",
       "<p>STIXGeneral: <span style='font-family:STIXGeneral; font-size: 24px;'>STIXGeneral</p>\n",
       "<p>STIXIntegralsD: <span style='font-family:STIXIntegralsD; font-size: 24px;'>STIXIntegralsD</p>\n",
       "<p>STIXIntegralsSm: <span style='font-family:STIXIntegralsSm; font-size: 24px;'>STIXIntegralsSm</p>\n",
       "<p>STIXIntegralsUp: <span style='font-family:STIXIntegralsUp; font-size: 24px;'>STIXIntegralsUp</p>\n",
       "<p>STIXIntegralsUpD: <span style='font-family:STIXIntegralsUpD; font-size: 24px;'>STIXIntegralsUpD</p>\n",
       "<p>STIXIntegralsUpSm: <span style='font-family:STIXIntegralsUpSm; font-size: 24px;'>STIXIntegralsUpSm</p>\n",
       "<p>STIXNonUnicode: <span style='font-family:STIXNonUnicode; font-size: 24px;'>STIXNonUnicode</p>\n",
       "<p>STIXSizeFiveSym: <span style='font-family:STIXSizeFiveSym; font-size: 24px;'>STIXSizeFiveSym</p>\n",
       "<p>STIXSizeFourSym: <span style='font-family:STIXSizeFourSym; font-size: 24px;'>STIXSizeFourSym</p>\n",
       "<p>STIXSizeOneSym: <span style='font-family:STIXSizeOneSym; font-size: 24px;'>STIXSizeOneSym</p>\n",
       "<p>STIXSizeThreeSym: <span style='font-family:STIXSizeThreeSym; font-size: 24px;'>STIXSizeThreeSym</p>\n",
       "<p>STIXSizeTwoSym: <span style='font-family:STIXSizeTwoSym; font-size: 24px;'>STIXSizeTwoSym</p>\n",
       "<p>STIXVariants: <span style='font-family:STIXVariants; font-size: 24px;'>STIXVariants</p>\n",
       "<p>Sathu: <span style='font-family:Sathu; font-size: 24px;'>Sathu</p>\n",
       "<p>Silom: <span style='font-family:Silom; font-size: 24px;'>Silom</p>\n",
       "<p>SimHei: <span style='font-family:SimHei; font-size: 24px;'>SimHei</p>\n",
       "<p>SimSun: <span style='font-family:SimSun; font-size: 24px;'>SimSun</p>\n",
       "<p>SimSun-ExtB: <span style='font-family:SimSun-ExtB; font-size: 24px;'>SimSun-ExtB</p>\n",
       "<p>Skia: <span style='font-family:Skia; font-size: 24px;'>Skia</p>\n",
       "<p>Symbol: <span style='font-family:Symbol; font-size: 24px;'>Symbol</p>\n",
       "<p>System Font: <span style='font-family:System Font; font-size: 24px;'>System Font</p>\n",
       "<p>Tahoma: <span style='font-family:Tahoma; font-size: 24px;'>Tahoma</p>\n",
       "<p>Times New Roman: <span style='font-family:Times New Roman; font-size: 24px;'>Times New Roman</p>\n",
       "<p>Trattatello: <span style='font-family:Trattatello; font-size: 24px;'>Trattatello</p>\n",
       "<p>Trebuchet MS: <span style='font-family:Trebuchet MS; font-size: 24px;'>Trebuchet MS</p>\n",
       "<p>Tw Cen MT: <span style='font-family:Tw Cen MT; font-size: 24px;'>Tw Cen MT</p>\n",
       "<p>Verdana: <span style='font-family:Verdana; font-size: 24px;'>Verdana</p>\n",
       "<p>Webdings: <span style='font-family:Webdings; font-size: 24px;'>Webdings</p>\n",
       "<p>Wingdings: <span style='font-family:Wingdings; font-size: 24px;'>Wingdings</p>\n",
       "<p>Wingdings 2: <span style='font-family:Wingdings 2; font-size: 24px;'>Wingdings 2</p>\n",
       "<p>Wingdings 3: <span style='font-family:Wingdings 3; font-size: 24px;'>Wingdings 3</p>\n",
       "<p>Zapf Dingbats: <span style='font-family:Zapf Dingbats; font-size: 24px;'>Zapf Dingbats</p>\n",
       "<p>Zapfino: <span style='font-family:Zapfino; font-size: 24px;'>Zapfino</p>\n",
       "<p>cmb10: <span style='font-family:cmb10; font-size: 24px;'>cmb10</p>\n",
       "<p>cmex10: <span style='font-family:cmex10; font-size: 24px;'>cmex10</p>\n",
       "<p>cmmi10: <span style='font-family:cmmi10; font-size: 24px;'>cmmi10</p>\n",
       "<p>cmr10: <span style='font-family:cmr10; font-size: 24px;'>cmr10</p>\n",
       "<p>cmss10: <span style='font-family:cmss10; font-size: 24px;'>cmss10</p>\n",
       "<p>cmsy10: <span style='font-family:cmsy10; font-size: 24px;'>cmsy10</p>\n",
       "<p>cmtt10: <span style='font-family:cmtt10; font-size: 24px;'>cmtt10</p></div>"
      ],
      "text/plain": [
       "<IPython.core.display.HTML object>"
      ]
     },
     "execution_count": 17,
     "metadata": {},
     "output_type": "execute_result"
    }
   ],
   "source": [
    "import matplotlib.font_manager\n",
    "from IPython.core.display import HTML\n",
    "\n",
    "def make_html(fontname):\n",
    "    return \"<p>{font}: <span style='font-family:{font}; font-size: 24px;'>{font}</p>\".format(font=fontname)\n",
    "\n",
    "code = \"\\n\".join([make_html(font) for font in sorted(set([f.name for f in matplotlib.font_manager.fontManager.ttflist]))])\n",
    "\n",
    "HTML(\"<div style='column-count: 2;'>{}</div>\".format(code))"
   ]
  },
  {
   "cell_type": "markdown",
   "metadata": {},
   "source": [
    "# Grouped bar graph (2 colors)"
   ]
  },
  {
   "cell_type": "code",
   "execution_count": 101,
   "metadata": {},
   "outputs": [
    {
     "data": {
      "text/html": [
       "<div>\n",
       "<style scoped>\n",
       "    .dataframe tbody tr th:only-of-type {\n",
       "        vertical-align: middle;\n",
       "    }\n",
       "\n",
       "    .dataframe tbody tr th {\n",
       "        vertical-align: top;\n",
       "    }\n",
       "\n",
       "    .dataframe thead th {\n",
       "        text-align: right;\n",
       "    }\n",
       "</style>\n",
       "<table border=\"1\" class=\"dataframe\">\n",
       "  <thead>\n",
       "    <tr style=\"text-align: right;\">\n",
       "      <th></th>\n",
       "      <th>state</th>\n",
       "      <th>male</th>\n",
       "      <th>female</th>\n",
       "    </tr>\n",
       "  </thead>\n",
       "  <tbody>\n",
       "    <tr>\n",
       "      <th>0</th>\n",
       "      <td>Texas</td>\n",
       "      <td>30</td>\n",
       "      <td>22</td>\n",
       "    </tr>\n",
       "    <tr>\n",
       "      <th>1</th>\n",
       "      <td>New Mexico</td>\n",
       "      <td>45</td>\n",
       "      <td>34</td>\n",
       "    </tr>\n",
       "    <tr>\n",
       "      <th>2</th>\n",
       "      <td>Colorado</td>\n",
       "      <td>32</td>\n",
       "      <td>44</td>\n",
       "    </tr>\n",
       "  </tbody>\n",
       "</table>\n",
       "</div>"
      ],
      "text/plain": [
       "        state  male  female\n",
       "0       Texas    30      22\n",
       "1  New Mexico    45      34\n",
       "2    Colorado    32      44"
      ]
     },
     "execution_count": 101,
     "metadata": {},
     "output_type": "execute_result"
    }
   ],
   "source": [
    "df = pd.read_csv(\"gender.csv\")\n",
    "df.head(3)"
   ]
  },
  {
   "cell_type": "code",
   "execution_count": 103,
   "metadata": {},
   "outputs": [
    {
     "data": {
      "image/png": "[encoded data removed]",
      "text/plain": [
       "<Figure size 1000x400 with 1 Axes>"
      ]
     },
     "metadata": {},
     "output_type": "display_data"
    }
   ],
   "source": [
    "ax = df.plot(x='state', kind='barh', figsize=(10,4))\n",
    "# My inspiration for this graph is Super Mario World\n",
    "# https://twitter.com/eto2d/status/891868431489921025\n",
    "\n",
    "\n",
    "# CUSTOMIZATION CODE GOES UNDER HERE\n",
    "plt.rcdefaults()\n",
    "plt.rcParams.update({\n",
    "  'font.size': 10.0,\n",
    "  'axes.facecolor': '#ffdf92',\n",
    "  'axes.edgecolor': '#7ad24e',\n",
    "  'axes.linewidth': '2',\n",
    "  'axes.grid': True,\n",
    "  'axes.titlesize': 'x-large',\n",
    "  'axes.labelsize': 'large',\n",
    "  'axes.labelcolor': '#6f4300',\n",
    "  'axes.axisbelow': True,\n",
    "  'axes.prop_cycle': cycler('color', ['#3c781d', '#629f43']),\n",
    "  'xtick.major.size': 0,\n",
    "  'xtick.minor.size': 0,\n",
    "  'ytick.major.size': 0,\n",
    "  'ytick.minor.size': 0,\n",
    "  'grid.color': 'white',\n",
    "  'grid.linestyle': '-',\n",
    "  'figure.facecolor': '#dda550',\n",
    "  'font.family': 'Krungthep',\n",
    "  'text.color': '#6f4300'\n",
    "})\n",
    "ax.set_xlabel(\"Enthusiasts (thousands)\")\n",
    "ax.set_ylabel(\"\")\n",
    "ax.set_title(\"New Mexico leads in roasted poblano lovers\", pad=20)\n",
    "ax.grid(False, axis='y')\n",
    "\n",
    "# then we save it\n",
    "plt.savefig(\"graph-bar-grouped2.pdf\")\n",
    "plt.show()"
   ]
  },
  {
   "cell_type": "markdown",
   "metadata": {},
   "source": [
    "# Bar graph (Single color)"
   ]
  },
  {
   "cell_type": "code",
   "execution_count": 104,
   "metadata": {},
   "outputs": [
    {
     "data": {
      "text/plain": [
       "continent\n",
       "Africa        52.1025\n",
       "Oceania       67.4955\n",
       "Asia          70.4275\n",
       "N. America    70.5765\n",
       "S. America    70.7660\n",
       "Europe        75.5800\n",
       "Name: life_expectancy, dtype: float64"
      ]
     },
     "execution_count": 104,
     "metadata": {},
     "output_type": "execute_result"
    }
   ],
   "source": [
    "df = pd.read_csv(\"countries.csv\")\n",
    "result = df.groupby(\"continent\").life_expectancy.median().sort_values()\n",
    "result"
   ]
  },
  {
   "cell_type": "code",
   "execution_count": 106,
   "metadata": {},
   "outputs": [
    {
     "data": {
      "image/png": "[encoded data removed]",
      "text/plain": [
       "<Figure size 1000x500 with 1 Axes>"
      ]
     },
     "metadata": {},
     "output_type": "display_data"
    }
   ],
   "source": [
    "color = plt.rcParams['axes.prop_cycle'].by_key()['color'][0]\n",
    "ax = result.plot(kind='barh', figsize=(10, 5), color=color)\n",
    "\n",
    "# CUSTOMIZATION CODE GOES UNDER HERE\n",
    "plt.rcdefaults()\n",
    "plt.rcParams.update({\n",
    "  'font.size': 10.0,\n",
    "  'axes.facecolor': '#fdd5a4',\n",
    "  'axes.edgecolor': '#FFFFFF',\n",
    "  'axes.linewidth': '1',\n",
    "  'axes.grid': True,\n",
    "  'axes.titlesize': 'x-large',\n",
    "  'axes.labelsize': 'large',\n",
    "  'axes.labelcolor': '#000000',\n",
    "  'axes.axisbelow': True,\n",
    "  'axes.prop_cycle': cycler('color', ['#51f038']),\n",
    "  'xtick.major.size': 0,\n",
    "  'xtick.minor.size': 0,\n",
    "  'ytick.major.size': 0,\n",
    "  'ytick.minor.size': 0,\n",
    "  'grid.color': 'white',\n",
    "  'grid.linestyle': '-',\n",
    "  'figure.facecolor': '#82c9f4',\n",
    "  'font.family': 'Krungthep',\n",
    "  'text.color': '#000000'\n",
    "})\n",
    "ax.set_xlabel(\"Average life expectancy\", color='white')\n",
    "ax.set_ylabel(\"Continent\", color='white')\n",
    "ax.set_title(\"Europeans really know how to live [forever]\", pad=20)\n",
    "ax.title.set_fontsize(14)\n",
    "ax.grid(False, axis='y')\n",
    "\n",
    "# then we save it\n",
    "plt.savefig(\"graph-bar2.pdf\")\n",
    "plt.show()"
   ]
  },
  {
   "cell_type": "markdown",
   "metadata": {},
   "source": [
    "# Line graph"
   ]
  },
  {
   "cell_type": "code",
   "execution_count": 107,
   "metadata": {},
   "outputs": [
    {
     "data": {
      "text/html": [
       "<div>\n",
       "<style scoped>\n",
       "    .dataframe tbody tr th:only-of-type {\n",
       "        vertical-align: middle;\n",
       "    }\n",
       "\n",
       "    .dataframe tbody tr th {\n",
       "        vertical-align: top;\n",
       "    }\n",
       "\n",
       "    .dataframe thead th {\n",
       "        text-align: right;\n",
       "    }\n",
       "</style>\n",
       "<table border=\"1\" class=\"dataframe\">\n",
       "  <thead>\n",
       "    <tr style=\"text-align: right;\">\n",
       "      <th>continent</th>\n",
       "      <th>Africa</th>\n",
       "      <th>Asia</th>\n",
       "      <th>Europe</th>\n",
       "      <th>North America</th>\n",
       "      <th>Oceania</th>\n",
       "      <th>South America</th>\n",
       "    </tr>\n",
       "    <tr>\n",
       "      <th>year</th>\n",
       "      <th></th>\n",
       "      <th></th>\n",
       "      <th></th>\n",
       "      <th></th>\n",
       "      <th></th>\n",
       "      <th></th>\n",
       "    </tr>\n",
       "  </thead>\n",
       "  <tbody>\n",
       "    <tr>\n",
       "      <th>1997-01-01</th>\n",
       "      <td>4.532365</td>\n",
       "      <td>40.533368</td>\n",
       "      <td>19.424055</td>\n",
       "      <td>16.410128</td>\n",
       "      <td>0.787181</td>\n",
       "      <td>18.312904</td>\n",
       "    </tr>\n",
       "    <tr>\n",
       "      <th>1998-01-01</th>\n",
       "      <td>4.905586</td>\n",
       "      <td>35.360192</td>\n",
       "      <td>18.980460</td>\n",
       "      <td>21.200149</td>\n",
       "      <td>0.812552</td>\n",
       "      <td>18.741061</td>\n",
       "    </tr>\n",
       "  </tbody>\n",
       "</table>\n",
       "</div>"
      ],
      "text/plain": [
       "continent     Africa       Asia     Europe  North America   Oceania  \\\n",
       "year                                                                  \n",
       "1997-01-01  4.532365  40.533368  19.424055      16.410128  0.787181   \n",
       "1998-01-01  4.905586  35.360192  18.980460      21.200149  0.812552   \n",
       "\n",
       "continent   South America  \n",
       "year                       \n",
       "1997-01-01      18.312904  \n",
       "1998-01-01      18.741061  "
      ]
     },
     "execution_count": 107,
     "metadata": {},
     "output_type": "execute_result"
    }
   ],
   "source": [
    "df = pd.read_csv(\"visas-by-continent-long.csv\")\n",
    "df = df.groupby([\"year\", \"continent\"]).visas.sum().unstack().reset_index()\n",
    "df.drop(columns='Unknown', inplace=True)\n",
    "df['year'] = pd.to_datetime(df.year, format=\"%Y\")\n",
    "df.set_index('year', inplace=True)\n",
    "percent_df = df.div(df.sum(axis=1), axis='rows') * 100\n",
    "\n",
    "percent_df.head(2)"
   ]
  },
  {
   "cell_type": "code",
   "execution_count": 109,
   "metadata": {},
   "outputs": [
    {
     "data": {
      "image/png": "[encoded data removed]",
      "text/plain": [
       "<Figure size 1000x500 with 1 Axes>"
      ]
     },
     "metadata": {},
     "output_type": "display_data"
    }
   ],
   "source": [
    "ax = percent_df.plot(kind='line', figsize=(10, 5))\n",
    "\n",
    "# CUSTOMIZATION CODE GOES UNDER HERE\n",
    "# This is for the Super Mario underwater theme\n",
    "plt.rcdefaults()\n",
    "plt.rcParams.update({\n",
    "  'font.size': 10.0,\n",
    "  'axes.facecolor': '#0081e1',\n",
    "  'axes.edgecolor': '#000000',\n",
    "  'axes.linewidth': '1',\n",
    "  'axes.grid': True,\n",
    "  'axes.titlesize': 'large',\n",
    "  'axes.labelsize': 'large',\n",
    "  'axes.labelcolor': '#FFFFFF',\n",
    "  'axes.axisbelow': True,\n",
    "  'axes.prop_cycle': cycler('color', ['#42ff25', '#f23737', '#6300ff', '#723f00', '#FFFFFF']),\n",
    "  'xtick.major.size': 0,\n",
    "  'xtick.minor.size': 0,\n",
    "  'ytick.major.size': 0,\n",
    "  'ytick.minor.size': 0,\n",
    "  'grid.color': '#46ccff',\n",
    "  'grid.linestyle': '-',\n",
    "  'figure.facecolor': '#7f7e87',\n",
    "  'font.family': 'Krungthep',\n",
    "  'text.color': '#FFFFFF'\n",
    "})\n",
    "\n",
    "ax.set_xlabel(\"Year\")\n",
    "ax.set_ylabel(\"Visas by continent\")\n",
    "ax.grid(False, axis='x')\n",
    "ax.set_title(\"Uptick in U.S. visas for Asian immigrants\", pad=20)\n",
    "ax.title.set_fontsize(18)\n",
    "\n",
    "# then we save it\n",
    "plt.savefig(\"graph-lines2.pdf\")\n",
    "plt.show()"
   ]
  },
  {
   "cell_type": "markdown",
   "metadata": {},
   "source": [
    "# Scatter plot"
   ]
  },
  {
   "cell_type": "code",
   "execution_count": 110,
   "metadata": {},
   "outputs": [
    {
     "data": {
      "text/html": [
       "<div>\n",
       "<style scoped>\n",
       "    .dataframe tbody tr th:only-of-type {\n",
       "        vertical-align: middle;\n",
       "    }\n",
       "\n",
       "    .dataframe tbody tr th {\n",
       "        vertical-align: top;\n",
       "    }\n",
       "\n",
       "    .dataframe thead th {\n",
       "        text-align: right;\n",
       "    }\n",
       "</style>\n",
       "<table border=\"1\" class=\"dataframe\">\n",
       "  <thead>\n",
       "    <tr style=\"text-align: right;\">\n",
       "      <th></th>\n",
       "      <th>country</th>\n",
       "      <th>continent</th>\n",
       "      <th>gdp_per_capita</th>\n",
       "      <th>life_expectancy</th>\n",
       "      <th>population</th>\n",
       "    </tr>\n",
       "  </thead>\n",
       "  <tbody>\n",
       "    <tr>\n",
       "      <th>0</th>\n",
       "      <td>Afghanistan</td>\n",
       "      <td>Asia</td>\n",
       "      <td>663</td>\n",
       "      <td>54.863</td>\n",
       "      <td>22856302</td>\n",
       "    </tr>\n",
       "    <tr>\n",
       "      <th>1</th>\n",
       "      <td>Albania</td>\n",
       "      <td>Europe</td>\n",
       "      <td>4195</td>\n",
       "      <td>74.200</td>\n",
       "      <td>3071856</td>\n",
       "    </tr>\n",
       "  </tbody>\n",
       "</table>\n",
       "</div>"
      ],
      "text/plain": [
       "       country continent  gdp_per_capita  life_expectancy  population\n",
       "0  Afghanistan      Asia             663           54.863    22856302\n",
       "1      Albania    Europe            4195           74.200     3071856"
      ]
     },
     "execution_count": 110,
     "metadata": {},
     "output_type": "execute_result"
    }
   ],
   "source": [
    "df = pd.read_csv(\"countries.csv\")\n",
    "df.head(2)"
   ]
  },
  {
   "cell_type": "code",
   "execution_count": 112,
   "metadata": {},
   "outputs": [
    {
     "ename": "IndexError",
     "evalue": "pop from empty list",
     "output_type": "error",
     "traceback": [
      "\u001b[0;31m---------------------------------------------------------------------------\u001b[0m",
      "\u001b[0;31mIndexError\u001b[0m                                Traceback (most recent call last)",
      "\u001b[0;32m<ipython-input-112-952667a252b2>\u001b[0m in \u001b[0;36m<module>\u001b[0;34m()\u001b[0m\n\u001b[1;32m      6\u001b[0m \u001b[0mgroups\u001b[0m \u001b[0;34m=\u001b[0m \u001b[0mdf\u001b[0m\u001b[0;34m.\u001b[0m\u001b[0mgroupby\u001b[0m\u001b[0;34m(\u001b[0m\u001b[0;34m'continent'\u001b[0m\u001b[0;34m)\u001b[0m\u001b[0;34m\u001b[0m\u001b[0m\n\u001b[1;32m      7\u001b[0m \u001b[0;32mfor\u001b[0m \u001b[0mname\u001b[0m\u001b[0;34m,\u001b[0m \u001b[0mgroup\u001b[0m \u001b[0;32min\u001b[0m \u001b[0mgroups\u001b[0m\u001b[0;34m:\u001b[0m\u001b[0;34m\u001b[0m\u001b[0m\n\u001b[0;32m----> 8\u001b[0;31m     \u001b[0mgroup\u001b[0m\u001b[0;34m.\u001b[0m\u001b[0mplot\u001b[0m\u001b[0;34m(\u001b[0m\u001b[0mkind\u001b[0m\u001b[0;34m=\u001b[0m\u001b[0;34m'scatter'\u001b[0m\u001b[0;34m,\u001b[0m \u001b[0mx\u001b[0m\u001b[0;34m=\u001b[0m\u001b[0;34m'gdp_per_capita'\u001b[0m\u001b[0;34m,\u001b[0m \u001b[0my\u001b[0m\u001b[0;34m=\u001b[0m\u001b[0;34m'life_expectancy'\u001b[0m\u001b[0;34m,\u001b[0m \u001b[0mcolor\u001b[0m\u001b[0;34m=\u001b[0m\u001b[0mcolors\u001b[0m\u001b[0;34m.\u001b[0m\u001b[0mpop\u001b[0m\u001b[0;34m(\u001b[0m\u001b[0;34m)\u001b[0m\u001b[0;34m,\u001b[0m \u001b[0mlabel\u001b[0m\u001b[0;34m=\u001b[0m\u001b[0mname\u001b[0m\u001b[0;34m,\u001b[0m \u001b[0ms\u001b[0m\u001b[0;34m=\u001b[0m \u001b[0;36m5\u001b[0m \u001b[0;34m+\u001b[0m \u001b[0;34m(\u001b[0m\u001b[0mgroup\u001b[0m\u001b[0;34m.\u001b[0m\u001b[0mpopulation\u001b[0m \u001b[0;34m/\u001b[0m \u001b[0;36m200000\u001b[0m\u001b[0;34m)\u001b[0m\u001b[0;34m,\u001b[0m \u001b[0max\u001b[0m\u001b[0;34m=\u001b[0m\u001b[0max\u001b[0m\u001b[0;34m,\u001b[0m \u001b[0malpha\u001b[0m\u001b[0;34m=\u001b[0m\u001b[0;36m0.75\u001b[0m\u001b[0;34m)\u001b[0m\u001b[0;34m\u001b[0m\u001b[0m\n\u001b[0m\u001b[1;32m      9\u001b[0m \u001b[0max\u001b[0m\u001b[0;34m.\u001b[0m\u001b[0mlegend_\u001b[0m\u001b[0;34m.\u001b[0m\u001b[0mremove\u001b[0m\u001b[0;34m(\u001b[0m\u001b[0;34m)\u001b[0m\u001b[0;34m\u001b[0m\u001b[0m\n\u001b[1;32m     10\u001b[0m \u001b[0;34m\u001b[0m\u001b[0m\n",
      "\u001b[0;31mIndexError\u001b[0m: pop from empty list"
     ]
    }
   ],
   "source": [
    "fig, ax = plt.subplots(figsize=(8, 6))\n",
    "\n",
    "# Don't touch this part of the code!\n",
    "colors = list(reversed(plt.rcParams['axes.prop_cycle'].by_key()['color']))\n",
    "\n",
    "groups = df.groupby('continent')\n",
    "for name, group in groups:\n",
    "    group.plot(kind='scatter', x='gdp_per_capita', y='life_expectancy', color=colors.pop(), label=name, s= 5 + (group.population / 200000), ax=ax, alpha=0.75)\n",
    "ax.legend_.remove()\n",
    "\n",
    "# CUSTOMIZATION CODE GOES UNDER HERE\n",
    "# \n",
    "plt.rcdefaults()\n",
    "plt.rcParams.update({\n",
    "  'font.size': 10.0,\n",
    "  'axes.facecolor': '#254160',\n",
    "  'axes.edgecolor': '#000000',\n",
    "  'axes.linewidth': '1',\n",
    "  'axes.grid': False,\n",
    "  'axes.titlesize': 'large',\n",
    "  'axes.labelsize': 'large',\n",
    "  'axes.labelcolor': '#FFFFFF',\n",
    "  'axes.axisbelow': True,\n",
    "  'axes.prop_cycle': cycler('color', ['#599efd', '#ff9a00', '#6300ff', '#f03333', '#f9dd39']),\n",
    "  'xtick.major.size': 0,\n",
    "  'xtick.minor.size': 0,\n",
    "  'ytick.major.size': 0,\n",
    "  'ytick.minor.size': 0,\n",
    "  'grid.color': 'white',\n",
    "  'grid.linestyle': '-',\n",
    "  'figure.facecolor': '#25354b',\n",
    "  'font.family': 'Krungthep',\n",
    "  'text.color': '#FFFFFF'\n",
    "})\n",
    "\n",
    "ax.set_title(\"No one is suprised: Exponential correlation between GDP per capita and life expectancy\", pad=20)\n",
    "ax.title.set_fontsize(16)\n",
    "ax.set_xlabel(\"GDP per capita\")\n",
    "ax.set_ylabel(\"Life expectancy\")\n",
    "\n",
    "# then we save it\n",
    "plt.savefig(\"graph-scatter.pdf\")\n",
    "plt.show()"
   ]
  },
  {
   "cell_type": "code",
   "execution_count": null,
   "metadata": {},
   "outputs": [],
   "source": []
  },
  {
   "cell_type": "code",
   "execution_count": null,
   "metadata": {},
   "outputs": [],
   "source": []
  }
 ],
 "metadata": {
  "kernelspec": {
   "display_name": "Python 3",
   "language": "python",
   "name": "python3"
  },
  "language_info": {
   "codemirror_mode": {
    "name": "ipython",
    "version": 3
   },
   "file_extension": ".py",
   "mimetype": "text/x-python",
   "name": "python",
   "nbconvert_exporter": "python",
   "pygments_lexer": "ipython3",
   "version": "3.6.5"
  }
 },
 "nbformat": 4,
 "nbformat_minor": 2
}
