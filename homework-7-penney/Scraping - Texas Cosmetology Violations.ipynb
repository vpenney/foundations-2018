{
 "cells": [
  {
   "cell_type": "markdown",
   "metadata": {},
   "source": [
    "# Texas Cosmetologist Violations\n",
    "\n",
    "Texas has a system for [searching for license violations](https://www.tdlr.texas.gov/cimsfo/fosearch.asp). You're going to search for cosmetologists!"
   ]
  },
  {
   "cell_type": "markdown",
   "metadata": {},
   "source": [
    "## Setup: Import what you'll need to scrape the page\n",
    "\n",
    "We'll be using Selenium for this, *not* BeautifulSoup and requests."
   ]
  },
  {
   "cell_type": "code",
   "execution_count": 1,
   "metadata": {},
   "outputs": [],
   "source": [
    "from selenium import webdriver\n",
    "driver = webdriver.Chrome()"
   ]
  },
  {
   "cell_type": "markdown",
   "metadata": {
    "collapsed": true
   },
   "source": [
    "## Starting your search\n",
    "\n",
    "Starting from [here](https://www.tdlr.texas.gov/cimsfo/fosearch.asp), search for cosmetologist violations for people with the last name **Nguyen**."
   ]
  },
  {
   "cell_type": "code",
   "execution_count": 2,
   "metadata": {},
   "outputs": [],
   "source": [
    "driver.get('https://www.tdlr.texas.gov/cimsfo/fosearch.asp')"
   ]
  },
  {
   "cell_type": "code",
   "execution_count": 3,
   "metadata": {},
   "outputs": [],
   "source": [
    "# find field for last name\n",
    "lname_input = driver.find_element_by_name('pht_lnm')"
   ]
  },
  {
   "cell_type": "code",
   "execution_count": 4,
   "metadata": {},
   "outputs": [],
   "source": [
    "lname_input.send_keys('Nguyen')"
   ]
  },
  {
   "cell_type": "code",
   "execution_count": 5,
   "metadata": {},
   "outputs": [],
   "source": [
    "search_button = driver.find_element_by_name('B1')\n",
    "search_button.click()"
   ]
  },
  {
   "cell_type": "markdown",
   "metadata": {},
   "source": [
    "## Scraping\n",
    "\n",
    "Once you are on the results page, do this."
   ]
  },
  {
   "cell_type": "markdown",
   "metadata": {},
   "source": [
    "### Loop through each result and print the entire row\n",
    "\n",
    "Okay wait, that's a heck of a lot. Use `[:10]` to only do the first ten (`listname[:10]` gives you the first ten)."
   ]
  },
  {
   "cell_type": "code",
   "execution_count": 6,
   "metadata": {},
   "outputs": [],
   "source": [
    "results = driver.find_elements_by_tag_name('tr')"
   ]
  },
  {
   "cell_type": "markdown",
   "metadata": {},
   "source": [
    "### Loop through each result and print each person's name\n",
    "\n",
    "You'll get an error because the first one doesn't have a name. How do you make that not happen?! If you want to ignore an error, you use code like this:\n",
    "\n",
    "```python\n",
    "try:\n",
    "   try to do something\n",
    "except:\n",
    "   print(\"It didn't work')\n",
    "```\n",
    "\n",
    "It should help you out. If you don't want to print anything, you can type `pass` instead of the `print` statement.\n",
    "\n",
    "**Why doesn't the first one have a name?**"
   ]
  },
  {
   "cell_type": "code",
   "execution_count": 12,
   "metadata": {},
   "outputs": [
    {
     "name": "stdout",
     "output_type": "stream",
     "text": [
      "No name.\n",
      "NGUYEN, TOAN HUU\n",
      "NGUYEN, HANH CONG\n",
      "NGUYEN, KHIEM VAN\n",
      "NGUYEN, DIEP THI NGOC\n",
      "NGUYEN, LAN T-THUY\n",
      "NGUYEN, TUAN A\n",
      "NGUYEN, THAO B\n",
      "NGUYEN, BETH MARIA\n",
      "NGUYEN, KENNEY TUAN\n"
     ]
    }
   ],
   "source": [
    "for result in results[:10]:\n",
    "    try:\n",
    "        name = result.find_element_by_class_name('results_text')\n",
    "        print(name.text)\n",
    "    except:\n",
    "        print(\"No name.\")"
   ]
  },
  {
   "cell_type": "markdown",
   "metadata": {},
   "source": [
    "## Loop through each result, printing each violation description (\"Basis for order\")\n",
    "\n",
    "> - *Tip: You'll get an error even if you're ALMOST right - which row is causing the problem?*\n",
    "> - *Tip: You can get the HTML of something by doing `.get_attribute('innerHTML')` - it might help you diagnose your issue.*\n",
    "> - *Tip: Or I guess you could just skip the one with the problem..."
   ]
  },
  {
   "cell_type": "code",
   "execution_count": 56,
   "metadata": {},
   "outputs": [
    {
     "name": "stdout",
     "output_type": "stream",
     "text": [
      "No violation.\n",
      "Respondent failed to clean and sanitize whirlpool foot spas as required at the end of each day.\n",
      "Respondent failed to clean and sanitize whirlpool foot spas as required at the end of each day; Respondent failed to use items subject to possible cross contamination in a manner that does not contaminate the remaining product.\n",
      "Respondent failed to follow whirlpool foot spas cleaning and sanitization procedures as required; Respondent failed to clean, disinfect, and sterilize manicure and pedicure implements after each use; Respondent failed to clean and disinfect all wax pots.\n",
      "Respondent failed to disinfect tools, implements, and supplies with an EPA-registered disinfectant solution; Respondent failed to disinfect multi-use equipment, implements, and tools prior to use on each client.\n",
      "Respondent failed to clean, disinfect, and sterilize manicure and pedicure implements after each use.\n",
      "Respondent failed to clean and disinfect all wax pots; Respondent failed to disinfect tools, implements, and supplies with a hospital-grade EPA-registered disinfectant solution; Respondent failed to replace materials that contact skin, or skin products from multi-use containers, with new or clean articles for each client.\n",
      "Respondent failed to clean and sanitize whirlpool foot spas as required at the end of each day.\n",
      "The Respondent's license was revoked upon Respondent's imprisonment in a penitentiary.\n",
      "Respondent leased space in a barber shop to an individual who engaged in the practice of barbering but had not obtained a barber license.\n"
     ]
    }
   ],
   "source": [
    "for result in results[:10]:\n",
    "    try:\n",
    "        violation = result.find_elements_by_tag_name('td')\n",
    "        print(violation[2].text)\n",
    "    except:\n",
    "        print(\"No violation.\")\n",
    "\n",
    "# also works by changing for loop to:\n",
    "# for result in results[1:11]"
   ]
  },
  {
   "cell_type": "markdown",
   "metadata": {},
   "source": [
    "## Loop through each result, printing the complaint number\n",
    "\n",
    "- TIP: Think about the order of the elements"
   ]
  },
  {
   "cell_type": "code",
   "execution_count": 63,
   "metadata": {},
   "outputs": [
    {
     "name": "stdout",
     "output_type": "stream",
     "text": [
      "No complaints.\n",
      "COS20180004289\n",
      "COS20180006594\n",
      "COS20180000257\n",
      "COS20180004915\n",
      "COS20180009255\n",
      "COS20140018343\n",
      "COS20180008846\n",
      "COS20180000897\n",
      "BAR20180001231\n"
     ]
    }
   ],
   "source": [
    "for result in results[:10]:\n",
    "    try:\n",
    "        complaint_id = result.find_elements_by_class_name('results_text')\n",
    "        print(complaint_id[-2].text)\n",
    "    except:\n",
    "        print(\"No complaints.\")"
   ]
  },
  {
   "cell_type": "markdown",
   "metadata": {},
   "source": [
    "## Saving the results\n",
    "\n",
    "### Loop through each result to create a list of dictionaries\n",
    "\n",
    "Each dictionary must contain\n",
    "\n",
    "- Person's name\n",
    "- Violation description\n",
    "- Violation number\n",
    "- License Numbers\n",
    "- Zip Code\n",
    "- County\n",
    "- City\n",
    "\n",
    "Create a new dictionary for each result (except the header).\n",
    "\n",
    "> *Tip: If you want to ask for the \"next sibling,\" you can't use `find_next_sibling` in Selenium, you need to use `element.find_element_by_xpath(\"following-sibling::div\")` to find the next div, or `element.find_element_by_xpath(\"following-sibling::*\")` to find the next anything."
   ]
  },
  {
   "cell_type": "code",
   "execution_count": 74,
   "metadata": {},
   "outputs": [
    {
     "data": {
      "text/plain": [
       "[{'name': 'NGUYEN, TOAN HUU',\n",
       "  'violation_desc': 'Respondent failed to clean and sanitize whirlpool foot spas as required at the end of each day.',\n",
       "  'violation_number': 'COS20180004289',\n",
       "  'license_number': '780948, 1706491, 1699123',\n",
       "  'zip_code': '78217',\n",
       "  'county': 'BEXAR',\n",
       "  'city': 'SAN ANTONIO'},\n",
       " {'name': 'NGUYEN, HANH CONG',\n",
       "  'violation_desc': 'Respondent failed to clean and sanitize whirlpool foot spas as required at the end of each day; Respondent failed to use items subject to possible cross contamination in a manner that does not contaminate the remaining product.',\n",
       "  'violation_number': 'COS20180006594',\n",
       "  'license_number': '737708',\n",
       "  'zip_code': '79934',\n",
       "  'county': 'EL PASO',\n",
       "  'city': 'EL PASO'},\n",
       " {'name': 'NGUYEN, KHIEM VAN',\n",
       "  'violation_desc': 'Respondent failed to follow whirlpool foot spas cleaning and sanitization procedures as required; Respondent failed to clean, disinfect, and sterilize manicure and pedicure implements after each use; Respondent failed to clean and disinfect all wax pots.',\n",
       "  'violation_number': 'COS20180000257',\n",
       "  'license_number': '731665',\n",
       "  'zip_code': '75604',\n",
       "  'county': 'GREGG',\n",
       "  'city': 'LONGVIEW'},\n",
       " {'name': 'NGUYEN, DIEP THI NGOC',\n",
       "  'violation_desc': 'Respondent failed to disinfect tools, implements, and supplies with an EPA-registered disinfectant solution; Respondent failed to disinfect multi-use equipment, implements, and tools prior to use on each client.',\n",
       "  'violation_number': 'COS20180004915',\n",
       "  'license_number': '1347649, 760528',\n",
       "  'zip_code': '77014',\n",
       "  'county': 'HARRIS',\n",
       "  'city': 'HOUSTON'},\n",
       " {'name': 'NGUYEN, LAN T-THUY',\n",
       "  'violation_desc': 'Respondent failed to clean, disinfect, and sterilize manicure and pedicure implements after each use.',\n",
       "  'violation_number': 'COS20180009255',\n",
       "  'license_number': 'NGUYEN, SAMLOI',\n",
       "  'zip_code': '78255',\n",
       "  'county': 'BEXAR',\n",
       "  'city': 'SAN ANTONIO'},\n",
       " {'name': 'NGUYEN, TUAN A',\n",
       "  'violation_desc': 'Respondent failed to clean and disinfect all wax pots; Respondent failed to disinfect tools, implements, and supplies with a hospital-grade EPA-registered disinfectant solution; Respondent failed to replace materials that contact skin, or skin products from multi-use containers, with new or clean articles for each client.',\n",
       "  'violation_number': 'COS20140018343',\n",
       "  'license_number': 'NGUYEN, TUAN VAN',\n",
       "  'zip_code': '78723',\n",
       "  'county': 'TRAVIS',\n",
       "  'city': 'AUSTIN'},\n",
       " {'name': 'NGUYEN, THAO B',\n",
       "  'violation_desc': 'Respondent failed to clean and sanitize whirlpool foot spas as required at the end of each day.',\n",
       "  'violation_number': 'COS20180008846',\n",
       "  'license_number': '721373, 1142884',\n",
       "  'zip_code': '76039',\n",
       "  'county': 'TARRANT',\n",
       "  'city': 'EULESS'},\n",
       " {'name': 'NGUYEN, BETH MARIA',\n",
       "  'violation_desc': \"The Respondent's license was revoked upon Respondent's imprisonment in a penitentiary.\",\n",
       "  'violation_number': 'COS20180000897',\n",
       "  'license_number': '1470271',\n",
       "  'zip_code': '77083',\n",
       "  'county': 'HARRIS',\n",
       "  'city': 'HOUSTON'},\n",
       " {'name': 'NGUYEN, KENNEY TUAN',\n",
       "  'violation_desc': 'Respondent leased space in a barber shop to an individual who engaged in the practice of barbering but had not obtained a barber license.',\n",
       "  'violation_number': 'BAR20180001231',\n",
       "  'license_number': '692892',\n",
       "  'zip_code': '78613',\n",
       "  'county': 'WILLIAMSON',\n",
       "  'city': 'CEDAR PARK'},\n",
       " {'name': 'NGUYEN, TRUNG N',\n",
       "  'violation_desc': 'Respondent failed to clean, disinfect, and sterilize manicure and pedicure implements after each use.',\n",
       "  'violation_number': 'COS20170023893',\n",
       "  'license_number': '1196244, 767015, 767014',\n",
       "  'zip_code': '79106',\n",
       "  'county': 'POTTER',\n",
       "  'city': 'AMARILLO'}]"
      ]
     },
     "execution_count": 74,
     "metadata": {},
     "output_type": "execute_result"
    }
   ],
   "source": [
    "rows = []\n",
    "\n",
    "# for loop to pull out each category of info from the first 10 search results\n",
    "for result in results[1:11]:\n",
    "    tx_cos = {}\n",
    "    \n",
    "    # name\n",
    "    try:\n",
    "        tx_cos['name'] = result.find_element_by_class_name('results_text').text        \n",
    "    except:\n",
    "        tx_cos['name'] = \"No name.\"\n",
    "    \n",
    "    # violation\n",
    "    try:\n",
    "        violation_desc = result.find_elements_by_tag_name('td')\n",
    "        tx_cos['violation_desc'] = violation_desc[2].text\n",
    "    except:\n",
    "        print(\"No violation.\")\n",
    "    \n",
    "    # violation/ complaint number\n",
    "    try:\n",
    "        complaint_id = result.find_elements_by_class_name('results_text')\n",
    "        tx_cos['violation_number'] = complaint_id[-2].text\n",
    "    except:\n",
    "        print(\"No complaints.\")\n",
    "    \n",
    "    # license numbers\n",
    "    try:\n",
    "        license_number = result.find_elements_by_class_name('results_text')\n",
    "        tx_cos['license_number'] = license_number[4].text\n",
    "    except:\n",
    "        print(\"No licenses.\")\n",
    "        \n",
    "    # zip code\n",
    "    try:\n",
    "        zip_code = result.find_elements_by_class_name('results_text')\n",
    "        tx_cos['zip_code'] = zip_code[3].text\n",
    "    except:\n",
    "        print(\"No zip code.\")\n",
    "        \n",
    "    # county\n",
    "    try:\n",
    "        county = result.find_elements_by_class_name('results_text')\n",
    "        tx_cos['county'] = county[2].text\n",
    "    except:\n",
    "        print(\"No county.\")\n",
    "\n",
    "    # city\n",
    "    try:\n",
    "        city = result.find_elements_by_class_name('results_text')\n",
    "        tx_cos['city'] = city[1].text\n",
    "    except:\n",
    "        print(\"No city.\")\n",
    "\n",
    "    rows.append(tx_cos)\n",
    "rows"
   ]
  },
  {
   "cell_type": "markdown",
   "metadata": {},
   "source": [
    "### Save that to a CSV\n",
    "\n",
    "- Tip: You'll want to use pandas here"
   ]
  },
  {
   "cell_type": "code",
   "execution_count": 75,
   "metadata": {},
   "outputs": [
    {
     "data": {
      "text/html": [
       "<div>\n",
       "<style scoped>\n",
       "    .dataframe tbody tr th:only-of-type {\n",
       "        vertical-align: middle;\n",
       "    }\n",
       "\n",
       "    .dataframe tbody tr th {\n",
       "        vertical-align: top;\n",
       "    }\n",
       "\n",
       "    .dataframe thead th {\n",
       "        text-align: right;\n",
       "    }\n",
       "</style>\n",
       "<table border=\"1\" class=\"dataframe\">\n",
       "  <thead>\n",
       "    <tr style=\"text-align: right;\">\n",
       "      <th></th>\n",
       "      <th>city</th>\n",
       "      <th>county</th>\n",
       "      <th>license_number</th>\n",
       "      <th>name</th>\n",
       "      <th>violation_desc</th>\n",
       "      <th>violation_number</th>\n",
       "      <th>zip_code</th>\n",
       "    </tr>\n",
       "  </thead>\n",
       "  <tbody>\n",
       "    <tr>\n",
       "      <th>0</th>\n",
       "      <td>SAN ANTONIO</td>\n",
       "      <td>BEXAR</td>\n",
       "      <td>780948, 1706491, 1699123</td>\n",
       "      <td>NGUYEN, TOAN HUU</td>\n",
       "      <td>Respondent failed to clean and sanitize whirlp...</td>\n",
       "      <td>COS20180004289</td>\n",
       "      <td>78217</td>\n",
       "    </tr>\n",
       "    <tr>\n",
       "      <th>1</th>\n",
       "      <td>EL PASO</td>\n",
       "      <td>EL PASO</td>\n",
       "      <td>737708</td>\n",
       "      <td>NGUYEN, HANH CONG</td>\n",
       "      <td>Respondent failed to clean and sanitize whirlp...</td>\n",
       "      <td>COS20180006594</td>\n",
       "      <td>79934</td>\n",
       "    </tr>\n",
       "    <tr>\n",
       "      <th>2</th>\n",
       "      <td>LONGVIEW</td>\n",
       "      <td>GREGG</td>\n",
       "      <td>731665</td>\n",
       "      <td>NGUYEN, KHIEM VAN</td>\n",
       "      <td>Respondent failed to follow whirlpool foot spa...</td>\n",
       "      <td>COS20180000257</td>\n",
       "      <td>75604</td>\n",
       "    </tr>\n",
       "    <tr>\n",
       "      <th>3</th>\n",
       "      <td>HOUSTON</td>\n",
       "      <td>HARRIS</td>\n",
       "      <td>1347649, 760528</td>\n",
       "      <td>NGUYEN, DIEP THI NGOC</td>\n",
       "      <td>Respondent failed to disinfect tools, implemen...</td>\n",
       "      <td>COS20180004915</td>\n",
       "      <td>77014</td>\n",
       "    </tr>\n",
       "    <tr>\n",
       "      <th>4</th>\n",
       "      <td>SAN ANTONIO</td>\n",
       "      <td>BEXAR</td>\n",
       "      <td>NGUYEN, SAMLOI</td>\n",
       "      <td>NGUYEN, LAN T-THUY</td>\n",
       "      <td>Respondent failed to clean, disinfect, and ste...</td>\n",
       "      <td>COS20180009255</td>\n",
       "      <td>78255</td>\n",
       "    </tr>\n",
       "    <tr>\n",
       "      <th>5</th>\n",
       "      <td>AUSTIN</td>\n",
       "      <td>TRAVIS</td>\n",
       "      <td>NGUYEN, TUAN VAN</td>\n",
       "      <td>NGUYEN, TUAN A</td>\n",
       "      <td>Respondent failed to clean and disinfect all w...</td>\n",
       "      <td>COS20140018343</td>\n",
       "      <td>78723</td>\n",
       "    </tr>\n",
       "    <tr>\n",
       "      <th>6</th>\n",
       "      <td>EULESS</td>\n",
       "      <td>TARRANT</td>\n",
       "      <td>721373, 1142884</td>\n",
       "      <td>NGUYEN, THAO B</td>\n",
       "      <td>Respondent failed to clean and sanitize whirlp...</td>\n",
       "      <td>COS20180008846</td>\n",
       "      <td>76039</td>\n",
       "    </tr>\n",
       "    <tr>\n",
       "      <th>7</th>\n",
       "      <td>HOUSTON</td>\n",
       "      <td>HARRIS</td>\n",
       "      <td>1470271</td>\n",
       "      <td>NGUYEN, BETH MARIA</td>\n",
       "      <td>The Respondent's license was revoked upon Resp...</td>\n",
       "      <td>COS20180000897</td>\n",
       "      <td>77083</td>\n",
       "    </tr>\n",
       "    <tr>\n",
       "      <th>8</th>\n",
       "      <td>CEDAR PARK</td>\n",
       "      <td>WILLIAMSON</td>\n",
       "      <td>692892</td>\n",
       "      <td>NGUYEN, KENNEY TUAN</td>\n",
       "      <td>Respondent leased space in a barber shop to an...</td>\n",
       "      <td>BAR20180001231</td>\n",
       "      <td>78613</td>\n",
       "    </tr>\n",
       "    <tr>\n",
       "      <th>9</th>\n",
       "      <td>AMARILLO</td>\n",
       "      <td>POTTER</td>\n",
       "      <td>1196244, 767015, 767014</td>\n",
       "      <td>NGUYEN, TRUNG N</td>\n",
       "      <td>Respondent failed to clean, disinfect, and ste...</td>\n",
       "      <td>COS20170023893</td>\n",
       "      <td>79106</td>\n",
       "    </tr>\n",
       "  </tbody>\n",
       "</table>\n",
       "</div>"
      ],
      "text/plain": [
       "          city      county            license_number                   name  \\\n",
       "0  SAN ANTONIO       BEXAR  780948, 1706491, 1699123       NGUYEN, TOAN HUU   \n",
       "1      EL PASO     EL PASO                    737708      NGUYEN, HANH CONG   \n",
       "2     LONGVIEW       GREGG                    731665      NGUYEN, KHIEM VAN   \n",
       "3      HOUSTON      HARRIS           1347649, 760528  NGUYEN, DIEP THI NGOC   \n",
       "4  SAN ANTONIO       BEXAR            NGUYEN, SAMLOI     NGUYEN, LAN T-THUY   \n",
       "5       AUSTIN      TRAVIS          NGUYEN, TUAN VAN         NGUYEN, TUAN A   \n",
       "6       EULESS     TARRANT           721373, 1142884         NGUYEN, THAO B   \n",
       "7      HOUSTON      HARRIS                   1470271     NGUYEN, BETH MARIA   \n",
       "8   CEDAR PARK  WILLIAMSON                    692892    NGUYEN, KENNEY TUAN   \n",
       "9     AMARILLO      POTTER   1196244, 767015, 767014        NGUYEN, TRUNG N   \n",
       "\n",
       "                                      violation_desc violation_number zip_code  \n",
       "0  Respondent failed to clean and sanitize whirlp...   COS20180004289    78217  \n",
       "1  Respondent failed to clean and sanitize whirlp...   COS20180006594    79934  \n",
       "2  Respondent failed to follow whirlpool foot spa...   COS20180000257    75604  \n",
       "3  Respondent failed to disinfect tools, implemen...   COS20180004915    77014  \n",
       "4  Respondent failed to clean, disinfect, and ste...   COS20180009255    78255  \n",
       "5  Respondent failed to clean and disinfect all w...   COS20140018343    78723  \n",
       "6  Respondent failed to clean and sanitize whirlp...   COS20180008846    76039  \n",
       "7  The Respondent's license was revoked upon Resp...   COS20180000897    77083  \n",
       "8  Respondent leased space in a barber shop to an...   BAR20180001231    78613  \n",
       "9  Respondent failed to clean, disinfect, and ste...   COS20170023893    79106  "
      ]
     },
     "execution_count": 75,
     "metadata": {},
     "output_type": "execute_result"
    }
   ],
   "source": [
    "import pandas as pd\n",
    "df = pd.DataFrame(rows)\n",
    "df"
   ]
  },
  {
   "cell_type": "code",
   "execution_count": 77,
   "metadata": {},
   "outputs": [],
   "source": [
    "df.to_csv(\"texas-cosmetology-violations.csv\", index=False)"
   ]
  },
  {
   "cell_type": "code",
   "execution_count": null,
   "metadata": {},
   "outputs": [],
   "source": []
  },
  {
   "cell_type": "markdown",
   "metadata": {},
   "source": [
    "### Open the CSV file and examine the first few. Make sure you didn't save an extra weird unnamed column."
   ]
  },
  {
   "cell_type": "code",
   "execution_count": null,
   "metadata": {},
   "outputs": [],
   "source": []
  }
 ],
 "metadata": {
  "kernelspec": {
   "display_name": "Python 3",
   "language": "python",
   "name": "python3"
  },
  "language_info": {
   "codemirror_mode": {
    "name": "ipython",
    "version": 3
   },
   "file_extension": ".py",
   "mimetype": "text/x-python",
   "name": "python",
   "nbconvert_exporter": "python",
   "pygments_lexer": "ipython3",
   "version": "3.6.5"
  }
 },
 "nbformat": 4,
 "nbformat_minor": 2
}
